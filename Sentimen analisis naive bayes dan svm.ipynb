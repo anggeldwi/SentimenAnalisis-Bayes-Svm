{
 "cells": [
  {
   "cell_type": "code",
   "execution_count": 1,
   "id": "17aff14e-8481-4f8f-9d01-9a13d40c947b",
   "metadata": {
    "tags": []
   },
   "outputs": [
    {
     "name": "stderr",
     "output_type": "stream",
     "text": [
      "C:\\Users\\asus\\AppData\\Local\\Programs\\Python\\Python311\\Lib\\site-packages\\sklearn\\metrics\\_classification.py:1344: UndefinedMetricWarning: Precision and F-score are ill-defined and being set to 0.0 in labels with no predicted samples. Use `zero_division` parameter to control this behavior.\n",
      "  _warn_prf(average, modifier, msg_start, len(result))\n",
      "C:\\Users\\asus\\AppData\\Local\\Programs\\Python\\Python311\\Lib\\site-packages\\sklearn\\metrics\\_classification.py:1344: UndefinedMetricWarning: Precision and F-score are ill-defined and being set to 0.0 in labels with no predicted samples. Use `zero_division` parameter to control this behavior.\n",
      "  _warn_prf(average, modifier, msg_start, len(result))\n",
      "C:\\Users\\asus\\AppData\\Local\\Programs\\Python\\Python311\\Lib\\site-packages\\sklearn\\metrics\\_classification.py:1344: UndefinedMetricWarning: Precision and F-score are ill-defined and being set to 0.0 in labels with no predicted samples. Use `zero_division` parameter to control this behavior.\n",
      "  _warn_prf(average, modifier, msg_start, len(result))\n"
     ]
    },
    {
     "data": {
      "image/png": "[encoded data removed]",
      "text/plain": [
       "<Figure size 800x600 with 1 Axes>"
      ]
     },
     "metadata": {},
     "output_type": "display_data"
    },
    {
     "name": "stdout",
     "output_type": "stream",
     "text": [
      "Naive Bayes Classification Report:\n",
      "              precision    recall  f1-score   support\n",
      "\n",
      "     negatif       0.49      0.76      0.59        72\n",
      "      netral       0.62      0.63      0.62        86\n",
      "     positif       0.00      0.00      0.00        42\n",
      "\n",
      "    accuracy                           0.55       200\n",
      "   macro avg       0.37      0.46      0.41       200\n",
      "weighted avg       0.44      0.55      0.48       200\n",
      "\n",
      "SVM Classification Report:\n",
      "              precision    recall  f1-score   support\n",
      "\n",
      "     negatif       0.76      0.72      0.74        72\n",
      "      netral       0.64      0.84      0.73        86\n",
      "     positif       0.90      0.43      0.58        42\n",
      "\n",
      "    accuracy                           0.71       200\n",
      "   macro avg       0.77      0.66      0.68       200\n",
      "weighted avg       0.74      0.71      0.70       200\n",
      "\n"
     ]
    }
   ],
   "source": [
    "#Load package\n",
    "import pandas as pd\n",
    "import matplotlib.pyplot as plt\n",
    "import seaborn as sns\n",
    "from nltk.corpus import stopwords\n",
    "from sklearn.feature_extraction.text import TfidfVectorizer\n",
    "from sklearn.naive_bayes import MultinomialNB\n",
    "from sklearn.svm import SVC\n",
    "from sklearn.metrics import accuracy_score, classification_report\n",
    "from sklearn.model_selection import train_test_split\n",
    "\n",
    "# Load dataset from CSV\n",
    "df = pd.read_csv('nama_file_hasil.csv')\n",
    "\n",
    "# Preprocess the text data (tokenization, lowercasing, etc.) if needed\n",
    "def preprocess_text(text):\n",
    "    # Menghapus tanda baca dan karakter khusus\n",
    "    text = re.sub(r'[^\\w\\s]', '', text)\n",
    "\n",
    "    # Mengubah teks menjadi lowercase\n",
    "    text = text.lower()\n",
    "\n",
    "    # Menghapus stopwords\n",
    "    stop_words = set(stopwords.words('indonesian'))\n",
    "    tokens = nltk.word_tokenize(text)\n",
    "    filtered_text = [word for word in tokens if word not in stop_words]\n",
    "    text = ' '.join(filtered_text)\n",
    "\n",
    "    return text\n",
    "\n",
    "# Split the dataset into training and testing sets\n",
    "X_train, X_test, y_train, y_test = train_test_split(df['content'], df['Sentiment'], test_size=0.2, random_state=42)\n",
    "\n",
    "# Create TF-IDF vectorizer\n",
    "vectorizer = TfidfVectorizer()\n",
    "\n",
    "# Fit the vectorizer on the training data\n",
    "X_train_vectors = vectorizer.fit_transform(X_train)\n",
    "\n",
    "# Transform the testing data using the fitted vectorizer\n",
    "X_test_vectors = vectorizer.transform(X_test)\n",
    "\n",
    "# Train the Naive Bayes classifier\n",
    "naive_bayes = MultinomialNB()\n",
    "naive_bayes.fit(X_train_vectors, y_train)\n",
    "\n",
    "# Train the SVM classifier\n",
    "svm = SVC(kernel='linear')\n",
    "svm.fit(X_train_vectors, y_train)\n",
    "\n",
    "# Predict the sentiment labels for the testing data\n",
    "y_pred_nb = naive_bayes.predict(X_test_vectors)\n",
    "y_pred_svm = svm.predict(X_test_vectors)\n",
    "\n",
    "# Calculate the accuracy of the classifiers\n",
    "accuracy_nb = accuracy_score(y_test, y_pred_nb)\n",
    "accuracy_svm = accuracy_score(y_test, y_pred_svm)\n",
    "\n",
    "# Generate classification report for the classifiers\n",
    "classification_report_nb = classification_report(y_test, y_pred_nb)\n",
    "classification_report_svm = classification_report(y_test, y_pred_svm)\n",
    "\n",
    "# Create a DataFrame to store the accuracy values\n",
    "data = {\n",
    "    'Algorithm': ['Naive Bayes', 'SVM', 'Actual'],\n",
    "    'Accuracy': [accuracy_nb, accuracy_svm, 1.0]\n",
    "}\n",
    "accuracy_df = pd.DataFrame(data)\n",
    "\n",
    "# Plot the accuracy values\n",
    "plt.figure(figsize=(8, 6))\n",
    "sns.barplot(x='Algorithm', y='Accuracy', data=accuracy_df)\n",
    "plt.ylim([0, 1])\n",
    "plt.title('Accuracy Comparison')\n",
    "plt.show()\n",
    "\n",
    "# Print the classification report\n",
    "print('Naive Bayes Classification Report:')\n",
    "print(classification_report_nb)\n",
    "print('SVM Classification Report:')\n",
    "print(classification_report_svm)\n"
   ]
  }
 ],
 "metadata": {
  "kernelspec": {
   "display_name": "Python 3 (ipykernel)",
   "language": "python",
   "name": "python3"
  },
  "language_info": {
   "codemirror_mode": {
    "name": "ipython",
    "version": 3
   },
   "file_extension": ".py",
   "mimetype": "text/x-python",
   "name": "python",
   "nbconvert_exporter": "python",
   "pygments_lexer": "ipython3",
   "version": "3.11.3"
  }
 },
 "nbformat": 4,
 "nbformat_minor": 5
}
